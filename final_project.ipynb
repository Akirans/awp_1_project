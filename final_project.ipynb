{
 "cells": [
  {
   "cell_type": "code",
   "execution_count": 1,
   "id": "9b1c540f-2b44-4483-a081-ffde20288dbe",
   "metadata": {},
   "outputs": [],
   "source": [
    "import matplotlib.pyplot as plt\n",
    "import pandas as pd\n",
    "import seaborn as sns"
   ]
  },
  {
   "cell_type": "code",
   "execution_count": 2,
   "id": "45201a4f-e206-4d02-bd08-9aee75571fb9",
   "metadata": {},
   "outputs": [],
   "source": [
    "data=pd.read_csv(\"Electric_Vehicle_Population_Data.csv\")"
   ]
  },
  {
   "cell_type": "code",
   "execution_count": 3,
   "id": "c6a57ad8-4826-4f1a-8ffa-6c3739ea52da",
   "metadata": {},
   "outputs": [
    {
     "data": {
      "text/html": [
       "<div>\n",
       "<style scoped>\n",
       "    .dataframe tbody tr th:only-of-type {\n",
       "        vertical-align: middle;\n",
       "    }\n",
       "\n",
       "    .dataframe tbody tr th {\n",
       "        vertical-align: top;\n",
       "    }\n",
       "\n",
       "    .dataframe thead th {\n",
       "        text-align: right;\n",
       "    }\n",
       "</style>\n",
       "<table border=\"1\" class=\"dataframe\">\n",
       "  <thead>\n",
       "    <tr style=\"text-align: right;\">\n",
       "      <th></th>\n",
       "      <th>VIN (1-10)</th>\n",
       "      <th>County</th>\n",
       "      <th>City</th>\n",
       "      <th>State</th>\n",
       "      <th>ZIP Code</th>\n",
       "      <th>Model Year</th>\n",
       "      <th>Make</th>\n",
       "      <th>Model</th>\n",
       "      <th>Electric Vehicle Type</th>\n",
       "      <th>Clean Alternative Fuel Vehicle (CAFV) Eligibility</th>\n",
       "      <th>Electric Range</th>\n",
       "      <th>Base MSRP</th>\n",
       "      <th>Legislative District</th>\n",
       "      <th>DOL Vehicle ID</th>\n",
       "      <th>Vehicle Location</th>\n",
       "    </tr>\n",
       "  </thead>\n",
       "  <tbody>\n",
       "    <tr>\n",
       "      <th>0</th>\n",
       "      <td>JN1AZ0CPXB</td>\n",
       "      <td>King</td>\n",
       "      <td>BELLEVUE</td>\n",
       "      <td>WA</td>\n",
       "      <td>98006</td>\n",
       "      <td>2011</td>\n",
       "      <td>NISSAN</td>\n",
       "      <td>LEAF</td>\n",
       "      <td>Battery Electric Vehicle (BEV)</td>\n",
       "      <td>Clean Alternative Fuel Vehicle Eligible</td>\n",
       "      <td>73</td>\n",
       "      <td>0</td>\n",
       "      <td>41.0</td>\n",
       "      <td>108619647</td>\n",
       "      <td>NaN</td>\n",
       "    </tr>\n",
       "    <tr>\n",
       "      <th>1</th>\n",
       "      <td>5YJXCBE27H</td>\n",
       "      <td>King</td>\n",
       "      <td>BELLEVUE</td>\n",
       "      <td>WA</td>\n",
       "      <td>98006</td>\n",
       "      <td>2017</td>\n",
       "      <td>TESLA</td>\n",
       "      <td>MODEL X</td>\n",
       "      <td>Battery Electric Vehicle (BEV)</td>\n",
       "      <td>Clean Alternative Fuel Vehicle Eligible</td>\n",
       "      <td>200</td>\n",
       "      <td>0</td>\n",
       "      <td>41.0</td>\n",
       "      <td>132161060</td>\n",
       "      <td>NaN</td>\n",
       "    </tr>\n",
       "    <tr>\n",
       "      <th>2</th>\n",
       "      <td>3C3CFFGE7H</td>\n",
       "      <td>King</td>\n",
       "      <td>SEATTLE</td>\n",
       "      <td>WA</td>\n",
       "      <td>98109</td>\n",
       "      <td>2017</td>\n",
       "      <td>FIAT</td>\n",
       "      <td>500</td>\n",
       "      <td>Battery Electric Vehicle (BEV)</td>\n",
       "      <td>Clean Alternative Fuel Vehicle Eligible</td>\n",
       "      <td>84</td>\n",
       "      <td>0</td>\n",
       "      <td>36.0</td>\n",
       "      <td>132224858</td>\n",
       "      <td>POINT (-122.346385 47.630685)</td>\n",
       "    </tr>\n",
       "    <tr>\n",
       "      <th>3</th>\n",
       "      <td>5YJSA1E21J</td>\n",
       "      <td>King</td>\n",
       "      <td>BELLEVUE</td>\n",
       "      <td>WA</td>\n",
       "      <td>98006</td>\n",
       "      <td>2018</td>\n",
       "      <td>TESLA</td>\n",
       "      <td>MODEL S</td>\n",
       "      <td>Battery Electric Vehicle (BEV)</td>\n",
       "      <td>Clean Alternative Fuel Vehicle Eligible</td>\n",
       "      <td>249</td>\n",
       "      <td>0</td>\n",
       "      <td>41.0</td>\n",
       "      <td>141069169</td>\n",
       "      <td>NaN</td>\n",
       "    </tr>\n",
       "    <tr>\n",
       "      <th>4</th>\n",
       "      <td>1FADP5CU4D</td>\n",
       "      <td>Pend Oreille</td>\n",
       "      <td>NEWPORT</td>\n",
       "      <td>WA</td>\n",
       "      <td>99156</td>\n",
       "      <td>2013</td>\n",
       "      <td>FORD</td>\n",
       "      <td>C-MAX</td>\n",
       "      <td>Plug-in Hybrid Electric Vehicle (PHEV)</td>\n",
       "      <td>Not eligible due to low battery range</td>\n",
       "      <td>19</td>\n",
       "      <td>0</td>\n",
       "      <td>7.0</td>\n",
       "      <td>148318516</td>\n",
       "      <td>POINT (-117.183015 48.216812)</td>\n",
       "    </tr>\n",
       "  </tbody>\n",
       "</table>\n",
       "</div>"
      ],
      "text/plain": [
       "   VIN (1-10)        County      City State  ZIP Code  Model Year    Make  \\\n",
       "0  JN1AZ0CPXB          King  BELLEVUE    WA     98006        2011  NISSAN   \n",
       "1  5YJXCBE27H          King  BELLEVUE    WA     98006        2017   TESLA   \n",
       "2  3C3CFFGE7H          King   SEATTLE    WA     98109        2017    FIAT   \n",
       "3  5YJSA1E21J          King  BELLEVUE    WA     98006        2018   TESLA   \n",
       "4  1FADP5CU4D  Pend Oreille   NEWPORT    WA     99156        2013    FORD   \n",
       "\n",
       "     Model                   Electric Vehicle Type  \\\n",
       "0     LEAF          Battery Electric Vehicle (BEV)   \n",
       "1  MODEL X          Battery Electric Vehicle (BEV)   \n",
       "2      500          Battery Electric Vehicle (BEV)   \n",
       "3  MODEL S          Battery Electric Vehicle (BEV)   \n",
       "4    C-MAX  Plug-in Hybrid Electric Vehicle (PHEV)   \n",
       "\n",
       "  Clean Alternative Fuel Vehicle (CAFV) Eligibility  Electric Range  \\\n",
       "0           Clean Alternative Fuel Vehicle Eligible              73   \n",
       "1           Clean Alternative Fuel Vehicle Eligible             200   \n",
       "2           Clean Alternative Fuel Vehicle Eligible              84   \n",
       "3           Clean Alternative Fuel Vehicle Eligible             249   \n",
       "4             Not eligible due to low battery range              19   \n",
       "\n",
       "   Base MSRP  Legislative District  DOL Vehicle ID  \\\n",
       "0          0                  41.0       108619647   \n",
       "1          0                  41.0       132161060   \n",
       "2          0                  36.0       132224858   \n",
       "3          0                  41.0       141069169   \n",
       "4          0                   7.0       148318516   \n",
       "\n",
       "                Vehicle Location  \n",
       "0                            NaN  \n",
       "1                            NaN  \n",
       "2  POINT (-122.346385 47.630685)  \n",
       "3                            NaN  \n",
       "4  POINT (-117.183015 48.216812)  "
      ]
     },
     "execution_count": 3,
     "metadata": {},
     "output_type": "execute_result"
    }
   ],
   "source": [
    "data.head()"
   ]
  },
  {
   "cell_type": "code",
   "execution_count": 11,
   "id": "6484e156-feac-4290-b21f-de95c7d64496",
   "metadata": {},
   "outputs": [
    {
     "data": {
      "text/html": [
       "<div>\n",
       "<style scoped>\n",
       "    .dataframe tbody tr th:only-of-type {\n",
       "        vertical-align: middle;\n",
       "    }\n",
       "\n",
       "    .dataframe tbody tr th {\n",
       "        vertical-align: top;\n",
       "    }\n",
       "\n",
       "    .dataframe thead th {\n",
       "        text-align: right;\n",
       "    }\n",
       "</style>\n",
       "<table border=\"1\" class=\"dataframe\">\n",
       "  <thead>\n",
       "    <tr style=\"text-align: right;\">\n",
       "      <th></th>\n",
       "      <th>VIN (1-10)</th>\n",
       "      <th>County</th>\n",
       "      <th>City</th>\n",
       "      <th>State</th>\n",
       "      <th>ZIP Code</th>\n",
       "      <th>Model Year</th>\n",
       "      <th>Make</th>\n",
       "      <th>Model</th>\n",
       "      <th>Electric Vehicle Type</th>\n",
       "      <th>Clean Alternative Fuel Vehicle (CAFV) Eligibility</th>\n",
       "      <th>Electric Range</th>\n",
       "      <th>Base MSRP</th>\n",
       "      <th>Legislative District</th>\n",
       "      <th>DOL Vehicle ID</th>\n",
       "      <th>Vehicle Location</th>\n",
       "    </tr>\n",
       "  </thead>\n",
       "  <tbody>\n",
       "    <tr>\n",
       "      <th>87680</th>\n",
       "      <td>5YJYGAEEXM</td>\n",
       "      <td>Kitsap</td>\n",
       "      <td>POULSBO</td>\n",
       "      <td>WA</td>\n",
       "      <td>98370</td>\n",
       "      <td>2021</td>\n",
       "      <td>TESLA</td>\n",
       "      <td>MODEL Y</td>\n",
       "      <td>Battery Electric Vehicle (BEV)</td>\n",
       "      <td>Eligibility unknown as battery range has not b...</td>\n",
       "      <td>0</td>\n",
       "      <td>0</td>\n",
       "      <td>23.0</td>\n",
       "      <td>180210600</td>\n",
       "      <td>POINT (-122.63339300000001 47.748427)</td>\n",
       "    </tr>\n",
       "    <tr>\n",
       "      <th>87681</th>\n",
       "      <td>5YJSA1E42K</td>\n",
       "      <td>King</td>\n",
       "      <td>SEATTLE</td>\n",
       "      <td>WA</td>\n",
       "      <td>98103</td>\n",
       "      <td>2019</td>\n",
       "      <td>TESLA</td>\n",
       "      <td>MODEL S</td>\n",
       "      <td>Battery Electric Vehicle (BEV)</td>\n",
       "      <td>Clean Alternative Fuel Vehicle Eligible</td>\n",
       "      <td>270</td>\n",
       "      <td>0</td>\n",
       "      <td>43.0</td>\n",
       "      <td>477063793</td>\n",
       "      <td>POINT (-122.343577 47.672491)</td>\n",
       "    </tr>\n",
       "    <tr>\n",
       "      <th>87682</th>\n",
       "      <td>5YJ3E1EB9M</td>\n",
       "      <td>King</td>\n",
       "      <td>SAMMAMISH</td>\n",
       "      <td>WA</td>\n",
       "      <td>98074</td>\n",
       "      <td>2021</td>\n",
       "      <td>TESLA</td>\n",
       "      <td>MODEL 3</td>\n",
       "      <td>Battery Electric Vehicle (BEV)</td>\n",
       "      <td>Eligibility unknown as battery range has not b...</td>\n",
       "      <td>0</td>\n",
       "      <td>0</td>\n",
       "      <td>41.0</td>\n",
       "      <td>180131752</td>\n",
       "      <td>POINT (-122.04272399999999 47.623594)</td>\n",
       "    </tr>\n",
       "    <tr>\n",
       "      <th>87683</th>\n",
       "      <td>1G1RD6E48D</td>\n",
       "      <td>King</td>\n",
       "      <td>LAKE FOREST PARK</td>\n",
       "      <td>WA</td>\n",
       "      <td>98155</td>\n",
       "      <td>2013</td>\n",
       "      <td>CHEVROLET</td>\n",
       "      <td>VOLT</td>\n",
       "      <td>Plug-in Hybrid Electric Vehicle (PHEV)</td>\n",
       "      <td>Clean Alternative Fuel Vehicle Eligible</td>\n",
       "      <td>38</td>\n",
       "      <td>0</td>\n",
       "      <td>46.0</td>\n",
       "      <td>120638465</td>\n",
       "      <td>POINT (-122.30332400000002 47.756486)</td>\n",
       "    </tr>\n",
       "    <tr>\n",
       "      <th>87684</th>\n",
       "      <td>WMW13DJ01N</td>\n",
       "      <td>Jefferson</td>\n",
       "      <td>PORT TOWNSEND</td>\n",
       "      <td>WA</td>\n",
       "      <td>98368</td>\n",
       "      <td>2022</td>\n",
       "      <td>MINI</td>\n",
       "      <td>HARDTOP</td>\n",
       "      <td>Battery Electric Vehicle (BEV)</td>\n",
       "      <td>Eligibility unknown as battery range has not b...</td>\n",
       "      <td>0</td>\n",
       "      <td>0</td>\n",
       "      <td>24.0</td>\n",
       "      <td>166089857</td>\n",
       "      <td>POINT (-122.81801600000001 48.080229)</td>\n",
       "    </tr>\n",
       "  </tbody>\n",
       "</table>\n",
       "</div>"
      ],
      "text/plain": [
       "       VIN (1-10)     County              City State  ZIP Code  Model Year  \\\n",
       "87680  5YJYGAEEXM     Kitsap           POULSBO    WA     98370        2021   \n",
       "87681  5YJSA1E42K       King           SEATTLE    WA     98103        2019   \n",
       "87682  5YJ3E1EB9M       King         SAMMAMISH    WA     98074        2021   \n",
       "87683  1G1RD6E48D       King  LAKE FOREST PARK    WA     98155        2013   \n",
       "87684  WMW13DJ01N  Jefferson     PORT TOWNSEND    WA     98368        2022   \n",
       "\n",
       "            Make    Model                   Electric Vehicle Type  \\\n",
       "87680      TESLA  MODEL Y          Battery Electric Vehicle (BEV)   \n",
       "87681      TESLA  MODEL S          Battery Electric Vehicle (BEV)   \n",
       "87682      TESLA  MODEL 3          Battery Electric Vehicle (BEV)   \n",
       "87683  CHEVROLET     VOLT  Plug-in Hybrid Electric Vehicle (PHEV)   \n",
       "87684       MINI  HARDTOP          Battery Electric Vehicle (BEV)   \n",
       "\n",
       "       Clean Alternative Fuel Vehicle (CAFV) Eligibility  Electric Range  \\\n",
       "87680  Eligibility unknown as battery range has not b...               0   \n",
       "87681            Clean Alternative Fuel Vehicle Eligible             270   \n",
       "87682  Eligibility unknown as battery range has not b...               0   \n",
       "87683            Clean Alternative Fuel Vehicle Eligible              38   \n",
       "87684  Eligibility unknown as battery range has not b...               0   \n",
       "\n",
       "       Base MSRP  Legislative District  DOL Vehicle ID  \\\n",
       "87680          0                  23.0       180210600   \n",
       "87681          0                  43.0       477063793   \n",
       "87682          0                  41.0       180131752   \n",
       "87683          0                  46.0       120638465   \n",
       "87684          0                  24.0       166089857   \n",
       "\n",
       "                            Vehicle Location  \n",
       "87680  POINT (-122.63339300000001 47.748427)  \n",
       "87681          POINT (-122.343577 47.672491)  \n",
       "87682  POINT (-122.04272399999999 47.623594)  \n",
       "87683  POINT (-122.30332400000002 47.756486)  \n",
       "87684  POINT (-122.81801600000001 48.080229)  "
      ]
     },
     "execution_count": 11,
     "metadata": {},
     "output_type": "execute_result"
    }
   ],
   "source": [
    "data.tail()"
   ]
  },
  {
   "cell_type": "code",
   "execution_count": 87,
   "id": "8d835234-f99c-4656-861d-a1ac4d860f90",
   "metadata": {},
   "outputs": [
    {
     "data": {
      "text/plain": [
       "1315275"
      ]
     },
     "execution_count": 87,
     "metadata": {},
     "output_type": "execute_result"
    }
   ],
   "source": [
    "data.size"
   ]
  },
  {
   "cell_type": "code",
   "execution_count": 88,
   "id": "e9a5c9cd-b25e-4333-8d12-74c21a128e4d",
   "metadata": {},
   "outputs": [
    {
     "data": {
      "text/plain": [
       "(87685, 15)"
      ]
     },
     "execution_count": 88,
     "metadata": {},
     "output_type": "execute_result"
    }
   ],
   "source": [
    "data.shape"
   ]
  },
  {
   "cell_type": "code",
   "execution_count": 13,
   "id": "66a6107d-5783-4c1a-b09a-14ef827f6ca8",
   "metadata": {},
   "outputs": [
    {
     "name": "stdout",
     "output_type": "stream",
     "text": [
      "<class 'pandas.core.frame.DataFrame'>\n",
      "RangeIndex: 87685 entries, 0 to 87684\n",
      "Data columns (total 15 columns):\n",
      " #   Column                                             Non-Null Count  Dtype  \n",
      "---  ------                                             --------------  -----  \n",
      " 0   VIN (1-10)                                         87685 non-null  object \n",
      " 1   County                                             87678 non-null  object \n",
      " 2   City                                               87685 non-null  object \n",
      " 3   State                                              87685 non-null  object \n",
      " 4   ZIP Code                                           87685 non-null  int64  \n",
      " 5   Model Year                                         87685 non-null  int64  \n",
      " 6   Make                                               87685 non-null  object \n",
      " 7   Model                                              87685 non-null  object \n",
      " 8   Electric Vehicle Type                              87685 non-null  object \n",
      " 9   Clean Alternative Fuel Vehicle (CAFV) Eligibility  87685 non-null  object \n",
      " 10  Electric Range                                     87685 non-null  int64  \n",
      " 11  Base MSRP                                          87685 non-null  int64  \n",
      " 12  Legislative District                               87457 non-null  float64\n",
      " 13  DOL Vehicle ID                                     87685 non-null  int64  \n",
      " 14  Vehicle Location                                   86257 non-null  object \n",
      "dtypes: float64(1), int64(5), object(9)\n",
      "memory usage: 10.0+ MB\n"
     ]
    }
   ],
   "source": [
    "data.info()"
   ]
  },
  {
   "cell_type": "code",
   "execution_count": 14,
   "id": "7fd8417c-0024-4b4f-9518-fcd9ecc6da96",
   "metadata": {},
   "outputs": [
    {
     "data": {
      "text/html": [
       "<div>\n",
       "<style scoped>\n",
       "    .dataframe tbody tr th:only-of-type {\n",
       "        vertical-align: middle;\n",
       "    }\n",
       "\n",
       "    .dataframe tbody tr th {\n",
       "        vertical-align: top;\n",
       "    }\n",
       "\n",
       "    .dataframe thead th {\n",
       "        text-align: right;\n",
       "    }\n",
       "</style>\n",
       "<table border=\"1\" class=\"dataframe\">\n",
       "  <thead>\n",
       "    <tr style=\"text-align: right;\">\n",
       "      <th></th>\n",
       "      <th>ZIP Code</th>\n",
       "      <th>Model Year</th>\n",
       "      <th>Electric Range</th>\n",
       "      <th>Base MSRP</th>\n",
       "      <th>Legislative District</th>\n",
       "      <th>DOL Vehicle ID</th>\n",
       "    </tr>\n",
       "  </thead>\n",
       "  <tbody>\n",
       "    <tr>\n",
       "      <th>count</th>\n",
       "      <td>87685.000000</td>\n",
       "      <td>87685.000000</td>\n",
       "      <td>87685.000000</td>\n",
       "      <td>87685.000000</td>\n",
       "      <td>87457.000000</td>\n",
       "      <td>8.768500e+04</td>\n",
       "    </tr>\n",
       "    <tr>\n",
       "      <th>mean</th>\n",
       "      <td>98144.934128</td>\n",
       "      <td>2018.017175</td>\n",
       "      <td>110.857718</td>\n",
       "      <td>2651.301021</td>\n",
       "      <td>29.988406</td>\n",
       "      <td>1.973858e+08</td>\n",
       "    </tr>\n",
       "    <tr>\n",
       "      <th>std</th>\n",
       "      <td>2825.923854</td>\n",
       "      <td>2.681660</td>\n",
       "      <td>103.750523</td>\n",
       "      <td>12575.446404</td>\n",
       "      <td>14.633608</td>\n",
       "      <td>1.093652e+08</td>\n",
       "    </tr>\n",
       "    <tr>\n",
       "      <th>min</th>\n",
       "      <td>745.000000</td>\n",
       "      <td>1993.000000</td>\n",
       "      <td>0.000000</td>\n",
       "      <td>0.000000</td>\n",
       "      <td>1.000000</td>\n",
       "      <td>4.385000e+03</td>\n",
       "    </tr>\n",
       "    <tr>\n",
       "      <th>25%</th>\n",
       "      <td>98052.000000</td>\n",
       "      <td>2016.000000</td>\n",
       "      <td>17.000000</td>\n",
       "      <td>0.000000</td>\n",
       "      <td>19.000000</td>\n",
       "      <td>1.349185e+08</td>\n",
       "    </tr>\n",
       "    <tr>\n",
       "      <th>50%</th>\n",
       "      <td>98121.000000</td>\n",
       "      <td>2018.000000</td>\n",
       "      <td>75.000000</td>\n",
       "      <td>0.000000</td>\n",
       "      <td>34.000000</td>\n",
       "      <td>1.711699e+08</td>\n",
       "    </tr>\n",
       "    <tr>\n",
       "      <th>75%</th>\n",
       "      <td>98370.000000</td>\n",
       "      <td>2020.000000</td>\n",
       "      <td>215.000000</td>\n",
       "      <td>0.000000</td>\n",
       "      <td>43.000000</td>\n",
       "      <td>2.357304e+08</td>\n",
       "    </tr>\n",
       "    <tr>\n",
       "      <th>max</th>\n",
       "      <td>99701.000000</td>\n",
       "      <td>2022.000000</td>\n",
       "      <td>337.000000</td>\n",
       "      <td>845000.000000</td>\n",
       "      <td>49.000000</td>\n",
       "      <td>4.792548e+08</td>\n",
       "    </tr>\n",
       "  </tbody>\n",
       "</table>\n",
       "</div>"
      ],
      "text/plain": [
       "           ZIP Code    Model Year  Electric Range      Base MSRP  \\\n",
       "count  87685.000000  87685.000000    87685.000000   87685.000000   \n",
       "mean   98144.934128   2018.017175      110.857718    2651.301021   \n",
       "std     2825.923854      2.681660      103.750523   12575.446404   \n",
       "min      745.000000   1993.000000        0.000000       0.000000   \n",
       "25%    98052.000000   2016.000000       17.000000       0.000000   \n",
       "50%    98121.000000   2018.000000       75.000000       0.000000   \n",
       "75%    98370.000000   2020.000000      215.000000       0.000000   \n",
       "max    99701.000000   2022.000000      337.000000  845000.000000   \n",
       "\n",
       "       Legislative District  DOL Vehicle ID  \n",
       "count          87457.000000    8.768500e+04  \n",
       "mean              29.988406    1.973858e+08  \n",
       "std               14.633608    1.093652e+08  \n",
       "min                1.000000    4.385000e+03  \n",
       "25%               19.000000    1.349185e+08  \n",
       "50%               34.000000    1.711699e+08  \n",
       "75%               43.000000    2.357304e+08  \n",
       "max               49.000000    4.792548e+08  "
      ]
     },
     "execution_count": 14,
     "metadata": {},
     "output_type": "execute_result"
    }
   ],
   "source": [
    "data.describe()"
   ]
  },
  {
   "cell_type": "code",
   "execution_count": 4,
   "id": "28cf80a9-0be5-495f-b3c4-251759c74818",
   "metadata": {},
   "outputs": [
    {
     "data": {
      "text/plain": [
       "Index(['VIN (1-10)', 'County', 'City', 'State', 'ZIP Code', 'Model Year',\n",
       "       'Make', 'Model', 'Electric Vehicle Type',\n",
       "       'Clean Alternative Fuel Vehicle (CAFV) Eligibility', 'Electric Range',\n",
       "       'Base MSRP', 'Legislative District', 'DOL Vehicle ID',\n",
       "       'Vehicle Location'],\n",
       "      dtype='object')"
      ]
     },
     "execution_count": 4,
     "metadata": {},
     "output_type": "execute_result"
    }
   ],
   "source": [
    "#print columns in the data:'\n",
    "data.columns"
   ]
  },
  {
   "cell_type": "code",
   "execution_count": 5,
   "id": "e7627fef-1786-46bf-8f0f-597de607ab15",
   "metadata": {},
   "outputs": [],
   "source": [
    "data.drop(columns={'Base MSRP', 'Legislative District', 'DOL Vehicle ID','Vehicle Location'},inplace=True)"
   ]
  },
  {
   "cell_type": "code",
   "execution_count": 6,
   "id": "f4158f21-41ca-45de-871a-8cd37fec500f",
   "metadata": {},
   "outputs": [
    {
     "data": {
      "text/plain": [
       "VIN (1-10)                                           0\n",
       "County                                               7\n",
       "City                                                 0\n",
       "State                                                0\n",
       "ZIP Code                                             0\n",
       "Model Year                                           0\n",
       "Make                                                 0\n",
       "Model                                                0\n",
       "Electric Vehicle Type                                0\n",
       "Clean Alternative Fuel Vehicle (CAFV) Eligibility    0\n",
       "Electric Range                                       0\n",
       "dtype: int64"
      ]
     },
     "execution_count": 6,
     "metadata": {},
     "output_type": "execute_result"
    }
   ],
   "source": [
    "#check any missing value there\n",
    "\n",
    "data.isnull().sum()"
   ]
  },
  {
   "cell_type": "code",
   "execution_count": 7,
   "id": "a5fc882a-94a4-4175-bb1f-7e72b15fed32",
   "metadata": {},
   "outputs": [
    {
     "data": {
      "text/html": [
       "<div>\n",
       "<style scoped>\n",
       "    .dataframe tbody tr th:only-of-type {\n",
       "        vertical-align: middle;\n",
       "    }\n",
       "\n",
       "    .dataframe tbody tr th {\n",
       "        vertical-align: top;\n",
       "    }\n",
       "\n",
       "    .dataframe thead th {\n",
       "        text-align: right;\n",
       "    }\n",
       "</style>\n",
       "<table border=\"1\" class=\"dataframe\">\n",
       "  <thead>\n",
       "    <tr style=\"text-align: right;\">\n",
       "      <th></th>\n",
       "      <th></th>\n",
       "      <th>ZIP Code</th>\n",
       "      <th>Model Year</th>\n",
       "      <th>Electric Range</th>\n",
       "    </tr>\n",
       "    <tr>\n",
       "      <th>County</th>\n",
       "      <th>City</th>\n",
       "      <th></th>\n",
       "      <th></th>\n",
       "      <th></th>\n",
       "    </tr>\n",
       "  </thead>\n",
       "  <tbody>\n",
       "    <tr>\n",
       "      <th rowspan=\"2\" valign=\"top\">Adams</th>\n",
       "      <th>OTHELLO</th>\n",
       "      <td>2185568</td>\n",
       "      <td>44369</td>\n",
       "      <td>1634</td>\n",
       "    </tr>\n",
       "    <tr>\n",
       "      <th>RITZVILLE</th>\n",
       "      <td>1190028</td>\n",
       "      <td>24220</td>\n",
       "      <td>1649</td>\n",
       "    </tr>\n",
       "    <tr>\n",
       "      <th>Alameda</th>\n",
       "      <th>ALAMEDA</th>\n",
       "      <td>94501</td>\n",
       "      <td>2016</td>\n",
       "      <td>210</td>\n",
       "    </tr>\n",
       "    <tr>\n",
       "      <th>Albemarle</th>\n",
       "      <th>CHARLOTTESVILLE</th>\n",
       "      <td>45814</td>\n",
       "      <td>4039</td>\n",
       "      <td>238</td>\n",
       "    </tr>\n",
       "    <tr>\n",
       "      <th>Alexandria City</th>\n",
       "      <th>ALEXANDRIA</th>\n",
       "      <td>111545</td>\n",
       "      <td>10088</td>\n",
       "      <td>514</td>\n",
       "    </tr>\n",
       "    <tr>\n",
       "      <th>...</th>\n",
       "      <th>...</th>\n",
       "      <td>...</td>\n",
       "      <td>...</td>\n",
       "      <td>...</td>\n",
       "    </tr>\n",
       "    <tr>\n",
       "      <th rowspan=\"4\" valign=\"top\">Yakima</th>\n",
       "      <th>WAPATO</th>\n",
       "      <td>395804</td>\n",
       "      <td>8076</td>\n",
       "      <td>380</td>\n",
       "    </tr>\n",
       "    <tr>\n",
       "      <th>WHITE SWAN</th>\n",
       "      <td>98952</td>\n",
       "      <td>2021</td>\n",
       "      <td>25</td>\n",
       "    </tr>\n",
       "    <tr>\n",
       "      <th>YAKIMA</th>\n",
       "      <td>30957184</td>\n",
       "      <td>631561</td>\n",
       "      <td>29530</td>\n",
       "    </tr>\n",
       "    <tr>\n",
       "      <th>ZILLAH</th>\n",
       "      <td>1583248</td>\n",
       "      <td>32273</td>\n",
       "      <td>2042</td>\n",
       "    </tr>\n",
       "    <tr>\n",
       "      <th>Yamhill</th>\n",
       "      <th>NEWBERG</th>\n",
       "      <td>97132</td>\n",
       "      <td>2021</td>\n",
       "      <td>222</td>\n",
       "    </tr>\n",
       "  </tbody>\n",
       "</table>\n",
       "<p>639 rows × 3 columns</p>\n",
       "</div>"
      ],
      "text/plain": [
       "                                 ZIP Code  Model Year  Electric Range\n",
       "County          City                                                 \n",
       "Adams           OTHELLO           2185568       44369            1634\n",
       "                RITZVILLE         1190028       24220            1649\n",
       "Alameda         ALAMEDA             94501        2016             210\n",
       "Albemarle       CHARLOTTESVILLE     45814        4039             238\n",
       "Alexandria City ALEXANDRIA         111545       10088             514\n",
       "...                                   ...         ...             ...\n",
       "Yakima          WAPATO             395804        8076             380\n",
       "                WHITE SWAN          98952        2021              25\n",
       "                YAKIMA           30957184      631561           29530\n",
       "                ZILLAH            1583248       32273            2042\n",
       "Yamhill         NEWBERG             97132        2021             222\n",
       "\n",
       "[639 rows x 3 columns]"
      ]
     },
     "execution_count": 7,
     "metadata": {},
     "output_type": "execute_result"
    }
   ],
   "source": [
    "#so we have null value in country:\n",
    "\n",
    "group=data.groupby(['County','City'])\n",
    "group.sum()"
   ]
  },
  {
   "cell_type": "code",
   "execution_count": 8,
   "id": "509e5a6e-79a3-42f1-9127-1ebf3e1c9546",
   "metadata": {},
   "outputs": [
    {
     "data": {
      "text/html": [
       "<div>\n",
       "<style scoped>\n",
       "    .dataframe tbody tr th:only-of-type {\n",
       "        vertical-align: middle;\n",
       "    }\n",
       "\n",
       "    .dataframe tbody tr th {\n",
       "        vertical-align: top;\n",
       "    }\n",
       "\n",
       "    .dataframe thead th {\n",
       "        text-align: right;\n",
       "    }\n",
       "</style>\n",
       "<table border=\"1\" class=\"dataframe\">\n",
       "  <thead>\n",
       "    <tr style=\"text-align: right;\">\n",
       "      <th></th>\n",
       "      <th></th>\n",
       "      <th>Model Year</th>\n",
       "      <th>Electric Range</th>\n",
       "    </tr>\n",
       "    <tr>\n",
       "      <th>ZIP Code</th>\n",
       "      <th>Make</th>\n",
       "      <th></th>\n",
       "      <th></th>\n",
       "    </tr>\n",
       "  </thead>\n",
       "  <tbody>\n",
       "    <tr>\n",
       "      <th>745</th>\n",
       "      <th>TESLA</th>\n",
       "      <td>2019</td>\n",
       "      <td>289</td>\n",
       "    </tr>\n",
       "    <tr>\n",
       "      <th>2124</th>\n",
       "      <th>HONDA</th>\n",
       "      <td>2018</td>\n",
       "      <td>47</td>\n",
       "    </tr>\n",
       "    <tr>\n",
       "      <th>2842</th>\n",
       "      <th>FORD</th>\n",
       "      <td>2021</td>\n",
       "      <td>0</td>\n",
       "    </tr>\n",
       "    <tr>\n",
       "      <th>3801</th>\n",
       "      <th>TESLA</th>\n",
       "      <td>2017</td>\n",
       "      <td>210</td>\n",
       "    </tr>\n",
       "    <tr>\n",
       "      <th>6340</th>\n",
       "      <th>TOYOTA</th>\n",
       "      <td>2021</td>\n",
       "      <td>25</td>\n",
       "    </tr>\n",
       "    <tr>\n",
       "      <th>...</th>\n",
       "      <th>...</th>\n",
       "      <td>...</td>\n",
       "      <td>...</td>\n",
       "    </tr>\n",
       "    <tr>\n",
       "      <th rowspan=\"4\" valign=\"top\">99403</th>\n",
       "      <th>KIA</th>\n",
       "      <td>4033</td>\n",
       "      <td>93</td>\n",
       "    </tr>\n",
       "    <tr>\n",
       "      <th>NISSAN</th>\n",
       "      <td>6041</td>\n",
       "      <td>234</td>\n",
       "    </tr>\n",
       "    <tr>\n",
       "      <th>TESLA</th>\n",
       "      <td>14133</td>\n",
       "      <td>1496</td>\n",
       "    </tr>\n",
       "    <tr>\n",
       "      <th>TOYOTA</th>\n",
       "      <td>16150</td>\n",
       "      <td>198</td>\n",
       "    </tr>\n",
       "    <tr>\n",
       "      <th>99701</th>\n",
       "      <th>FORD</th>\n",
       "      <td>2016</td>\n",
       "      <td>19</td>\n",
       "    </tr>\n",
       "  </tbody>\n",
       "</table>\n",
       "<p>5984 rows × 2 columns</p>\n",
       "</div>"
      ],
      "text/plain": [
       "                 Model Year  Electric Range\n",
       "ZIP Code Make                              \n",
       "745      TESLA         2019             289\n",
       "2124     HONDA         2018              47\n",
       "2842     FORD          2021               0\n",
       "3801     TESLA         2017             210\n",
       "6340     TOYOTA        2021              25\n",
       "...                     ...             ...\n",
       "99403    KIA           4033              93\n",
       "         NISSAN        6041             234\n",
       "         TESLA        14133            1496\n",
       "         TOYOTA       16150             198\n",
       "99701    FORD          2016              19\n",
       "\n",
       "[5984 rows x 2 columns]"
      ]
     },
     "execution_count": 8,
     "metadata": {},
     "output_type": "execute_result"
    }
   ],
   "source": [
    "group=data.groupby(['ZIP Code','Make'])\n",
    "group.sum()\n",
    "\n"
   ]
  },
  {
   "cell_type": "code",
   "execution_count": 86,
   "id": "7886a352-5667-44dd-8e26-185eb102bd59",
   "metadata": {},
   "outputs": [
    {
     "data": {
      "image/png": "[encoded data removed]",
      "text/plain": [
       "<Figure size 432x288 with 1 Axes>"
      ]
     },
     "metadata": {},
     "output_type": "display_data"
    }
   ],
   "source": [
    "data['Electric Vehicle Type'].value_counts().plot.pie(autopct='%1.5f%%',shadow=True)\n",
    "plt.title(\"Battery Use\",fontweight=\"bold\",fontsize=15)\n",
    "plt.show()"
   ]
  },
  {
   "cell_type": "markdown",
   "id": "91132b8f-5af5-494c-ad31-1209c28af2ad",
   "metadata": {},
   "source": [
    "###### from above plot the Battery electric vehicle type is mostly used as compare to other one\n"
   ]
  },
  {
   "cell_type": "code",
   "execution_count": 47,
   "id": "c3dffef9-909c-4a1a-ad34-2f94e183434e",
   "metadata": {},
   "outputs": [
    {
     "name": "stdout",
     "output_type": "stream",
     "text": [
      "0      17957\n",
      "215     6161\n",
      "84      4087\n",
      "220     4017\n",
      "238     3549\n",
      "       ...  \n",
      "48         2\n",
      "80         1\n",
      "57         1\n",
      "59         1\n",
      "39         1\n",
      "Name: Electric Range, Length: 100, dtype: int64\n"
     ]
    },
    {
     "data": {
      "text/plain": [
       "TESLA                   37161\n",
       "NISSAN                  12213\n",
       "CHEVROLET                9555\n",
       "FORD                     5318\n",
       "KIA                      4125\n",
       "TOYOTA                   3716\n",
       "BMW                      3711\n",
       "AUDI                     1763\n",
       "VOLKSWAGEN               1604\n",
       "CHRYSLER                 1575\n",
       "HYUNDAI                  1179\n",
       "VOLVO                     957\n",
       "FIAT                      790\n",
       "HONDA                     752\n",
       "PORSCHE                   601\n",
       "MITSUBISHI                521\n",
       "JEEP                      502\n",
       "MINI                      401\n",
       "MERCEDES-BENZ             330\n",
       "SMART                     271\n",
       "JAGUAR                    190\n",
       "POLESTAR                  158\n",
       "CADILLAC                   93\n",
       "LINCOLN                    74\n",
       "SUBARU                     47\n",
       "LAND ROVER                 36\n",
       "FISKER                     16\n",
       "RIVIAN                     12\n",
       "AZURE DYNAMICS              8\n",
       "BENTLEY                     2\n",
       "WHEEGO ELECTRIC CARS        2\n",
       "DODGE                       1\n",
       "TH!NK                       1\n",
       "Name: Make, dtype: int64"
      ]
     },
     "execution_count": 47,
     "metadata": {},
     "output_type": "execute_result"
    }
   ],
   "source": [
    "y=data[\"Electric Range\"].value_counts()\n",
    "print(y)\n",
    "x=data[\"Make\"].value_counts()\n",
    "x"
   ]
  },
  {
   "cell_type": "markdown",
   "id": "8cb07339-a83a-470d-9292-548ca325c9e6",
   "metadata": {},
   "source": [
    "#### finding out which vehicle makers have a more electric range"
   ]
  },
  {
   "cell_type": "code",
   "execution_count": 23,
   "id": "0f9c7355-2f74-4326-9997-586d54aae9e4",
   "metadata": {},
   "outputs": [
    {
     "data": {
      "text/plain": [
       "Text(0.5, 1.0, 'Vechicle_MakersVsElectric_range')"
      ]
     },
     "execution_count": 23,
     "metadata": {},
     "output_type": "execute_result"
    },
    {
     "data": {
      "image/png": "[encoded data removed]",
      "text/plain": [
       "<Figure size 1080x576 with 1 Axes>"
      ]
     },
     "metadata": {
      "needs_background": "light"
     },
     "output_type": "display_data"
    }
   ],
   "source": [
    "fig=plt.figure(figsize = (15, 8))\n",
    " \n",
    "\n",
    "sns.barplot(x=data['Make'],y=data['Electric Range'],palette='rocket',saturation=1)\n",
    "plt.xticks(rotation=90,fontsize=10)\n",
    "plt.yticks(fontsize=10)\n",
    "plt.xlabel('Vechicle_Makers',fontsize=15)\n",
    "plt.ylabel('Electric_range',fontsize=15)\n",
    "plt.title('Vechicle_Makers' 'Vs''Electric_range',fontsize=15,fontweight=\"bold\")"
   ]
  },
  {
   "cell_type": "code",
   "execution_count": 16,
   "id": "bbe9c69d-bee2-4c88-bc2f-f0ce8b386252",
   "metadata": {},
   "outputs": [
    {
     "data": {
      "text/plain": [
       "<matplotlib.collections.PathCollection at 0x23792d60730>"
      ]
     },
     "execution_count": 16,
     "metadata": {},
     "output_type": "execute_result"
    },
    {
     "data": {
      "image/png": "[encoded data removed]",
      "text/plain": [
       "<Figure size 1440x576 with 1 Axes>"
      ]
     },
     "metadata": {
      "needs_background": "light"
     },
     "output_type": "display_data"
    }
   ],
   "source": [
    "fig=plt.figure(figsize = (20, 8))\n",
    "x=data['Make']\n",
    "y=data['Electric Range']\n",
    "plt.scatter(x[:200],y[:200],marker='*')"
   ]
  },
  {
   "cell_type": "code",
   "execution_count": 44,
   "id": "9a84eeb6-9599-4a62-98fb-3036dc1bc550",
   "metadata": {},
   "outputs": [
    {
     "data": {
      "text/plain": [
       "Index(['VIN (1-10)', 'County', 'City', 'State', 'ZIP Code', 'Model Year',\n",
       "       'Make', 'Model', 'Electric Vehicle Type',\n",
       "       'Clean Alternative Fuel Vehicle (CAFV) Eligibility', 'Electric Range'],\n",
       "      dtype='object')"
      ]
     },
     "execution_count": 44,
     "metadata": {},
     "output_type": "execute_result"
    }
   ],
   "source": [
    "data.columns"
   ]
  },
  {
   "cell_type": "markdown",
   "id": "0f20205f-b27a-4d70-b885-1c8314b7110d",
   "metadata": {},
   "source": [
    "#### Year wise max cell"
   ]
  },
  {
   "cell_type": "code",
   "execution_count": 70,
   "id": "81a678a7-fb85-413f-b4ea-bc7af24e2a7e",
   "metadata": {},
   "outputs": [
    {
     "name": "stdout",
     "output_type": "stream",
     "text": [
      "The Maximum Cell Of Company By Year 2011\n",
      "WHEEGO ELECTRIC CARS\n",
      "The Maximum Cell Of Company By Year 2012\n",
      "TOYOTA\n",
      "The Maximum Cell Of Company By Year 2013\n",
      "TOYOTA\n",
      "The Maximum Cell Of Company By Year 2014\n",
      "TOYOTA\n",
      "The Maximum Cell Of Company By Year 2015\n",
      "VOLKSWAGEN\n",
      "The Maximum Cell Of Company By Year 2016\n",
      "VOLVO\n",
      "The Maximum Cell Of Company By Year 2017\n",
      "VOLVO\n",
      "The Maximum Cell Of Company By Year 2018\n",
      "VOLVO\n",
      "The Maximum Cell Of Company By Year 2019\n",
      "VOLVO\n",
      "The Maximum Cell Of Company By Year 2020\n",
      "TOYOTA\n",
      "The Maximum Cell Of Company By Year 2021\n",
      "VOLVO\n",
      "The Maximum Cell Of Company By Year 2022\n",
      "VOLVO\n"
     ]
    }
   ],
   "source": [
    "print('The Maximum Cell Of Company By Year 2011')\n",
    "print(data.Make[data['Model Year'] ==2011].max())\n",
    "\n",
    "print('The Maximum Cell Of Company By Year 2012')\n",
    "print(data.Make[data['Model Year'] ==2012].max())\n",
    "\n",
    "print('The Maximum Cell Of Company By Year 2013')\n",
    "\n",
    "print(data.Make[data['Model Year'] ==2013].max())\n",
    "\n",
    "print('The Maximum Cell Of Company By Year 2014')\n",
    "print(data.Make[data['Model Year'] ==2014].max())\n",
    "\n",
    "print('The Maximum Cell Of Company By Year 2015')\n",
    "print(data.Make[data['Model Year'] ==2015].max())\n",
    "\n",
    "print('The Maximum Cell Of Company By Year 2016')\n",
    "print(data.Make[data['Model Year'] ==2016].max())\n",
    "\n",
    "print('The Maximum Cell Of Company By Year 2017')\n",
    "print(data.Make[data['Model Year'] ==2017].max())\n",
    "\n",
    "print('The Maximum Cell Of Company By Year 2018')\n",
    "print(data.Make[data['Model Year'] ==2018].max())\n",
    "\n",
    "print('The Maximum Cell Of Company By Year 2019')\n",
    "print(data.Make[data['Model Year'] ==2019].max())\n",
    "\n",
    "print('The Maximum Cell Of Company By Year 2020')\n",
    "print(data.Make[data['Model Year'] ==2020].max())\n",
    "\n",
    "print('The Maximum Cell Of Company By Year 2021')\n",
    "print(data.Make[data['Model Year'] ==2021].max())\n",
    "\n",
    "print('The Maximum Cell Of Company By Year 2022')\n",
    "print(data.Make[data['Model Year'] ==2022].max())\n"
   ]
  },
  {
   "cell_type": "code",
   "execution_count": 80,
   "id": "17a515a2-fe82-4286-a211-70afeb382337",
   "metadata": {},
   "outputs": [
    {
     "name": "stderr",
     "output_type": "stream",
     "text": [
      "C:\\Users\\hp\\anaconda3\\lib\\site-packages\\seaborn\\_decorators.py:36: FutureWarning: Pass the following variable as a keyword arg: x. From version 0.12, the only valid positional argument will be `data`, and passing other arguments without an explicit keyword will result in an error or misinterpretation.\n",
      "  warnings.warn(\n"
     ]
    },
    {
     "data": {
      "text/plain": [
       "<function matplotlib.pyplot.show(close=None, block=None)>"
      ]
     },
     "execution_count": 80,
     "metadata": {},
     "output_type": "execute_result"
    },
    {
     "data": {
      "image/png": "[encoded data removed]",
      "text/plain": [
       "<Figure size 2520x1080 with 1 Axes>"
      ]
     },
     "metadata": {
      "needs_background": "light"
     },
     "output_type": "display_data"
    }
   ],
   "source": [
    "plt.figure(figsize=(35,15))\n",
    "sns.countplot(data.Make[data['Electric Vehicle Type'] =='Battery Electric Vehicle (BEV)'])\n",
    "\n",
    "plt.xlabel(\"Company\",fontsize=18,fontweight='bold')\n",
    "plt.ylabel(\"Battery_electric_type\",fontsize=18,fontweight='bold')\n",
    "plt.title('Company_uses' 'Vs''Battery_electric_count',fontsize=15,fontweight=\"bold\")\n",
    "plt.show"
   ]
  },
  {
   "cell_type": "code",
   "execution_count": null,
   "id": "5d1a41e0-2677-47a3-be17-8bad6d09773e",
   "metadata": {},
   "outputs": [],
   "source": []
  },
  {
   "cell_type": "code",
   "execution_count": null,
   "id": "c9424cac-e1b1-45a1-94a4-c4fb9304043f",
   "metadata": {},
   "outputs": [],
   "source": []
  }
 ],
 "metadata": {
  "kernelspec": {
   "display_name": "Python 3 (ipykernel)",
   "language": "python",
   "name": "python3"
  },
  "language_info": {
   "codemirror_mode": {
    "name": "ipython",
    "version": 3
   },
   "file_extension": ".py",
   "mimetype": "text/x-python",
   "name": "python",
   "nbconvert_exporter": "python",
   "pygments_lexer": "ipython3",
   "version": "3.9.7"
  }
 },
 "nbformat": 4,
 "nbformat_minor": 5
}
